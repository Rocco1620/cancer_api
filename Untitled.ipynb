{
 "cells": [
  {
   "cell_type": "code",
   "execution_count": null,
   "id": "e5df2c90-9a78-4087-b3d1-8a4232ee0624",
   "metadata": {},
   "outputs": [],
   "source": []
  }
 ],
 "metadata": {
  "kernelspec": {
   "display_name": "",
   "name": ""
  },
  "language_info": {
   "name": ""
  }
 },
 "nbformat": 4,
 "nbformat_minor": 5
}
