{
 "cells": [
  {
   "cell_type": "markdown",
   "id": "d7d0fae7-edb4-404b-a21d-ff6b86b2d033",
   "metadata": {},
   "source": [
    "#### Práctica con ejemplos simples y controlados"
   ]
  },
  {
   "cell_type": "code",
   "execution_count": 12,
   "id": "e5df2c90-9a78-4087-b3d1-8a4232ee0624",
   "metadata": {},
   "outputs": [],
   "source": [
    "from sklearn.pipeline import Pipeline\n",
    "from sklearn.preprocessing import StandardScaler\n",
    "from sklearn.linear_model import LogisticRegression\n",
    "from sklearn.svm import LinearSVC\n",
    "from sklearn.datasets import load_iris\n",
    "from sklearn.model_selection import train_test_split"
   ]
  },
  {
   "cell_type": "code",
   "execution_count": 13,
   "id": "367d963e-f942-4a8c-9628-c4f44d37a134",
   "metadata": {},
   "outputs": [],
   "source": [
    "X, y = load_iris(return_X_y=True)\n",
    "X_train, X_test, y_train, y_test = train_test_split(X, y, random_state=42)"
   ]
  },
  {
   "cell_type": "code",
   "execution_count": 15,
   "id": "abc56924-0efc-4d35-9c97-7a08c5f16f19",
   "metadata": {},
   "outputs": [
    {
     "name": "stdout",
     "output_type": "stream",
     "text": [
      "1.0\n"
     ]
    }
   ],
   "source": [
    "#Pipeline básico\n",
    "pipeline = Pipeline([\n",
    "    ('scaler', StandardScaler()),\n",
    "    ('model', LinearSVC())\n",
    "])\n",
    "pipeline.fit(X_train, y_train)\n",
    "print(pipeline.score(X_test, y_test))"
   ]
  },
  {
   "cell_type": "markdown",
   "id": "08a5995f-f760-4383-9d87-0208024889e2",
   "metadata": {},
   "source": [
    "#### Práctica con preprocesamiento más completo"
   ]
  },
  {
   "cell_type": "code",
   "execution_count": 25,
   "id": "88f8ebd9-ce95-44c1-bbe1-0fd95a41d91f",
   "metadata": {},
   "outputs": [],
   "source": [
    "from sklearn.impute import SimpleImputer\n",
    "from sklearn.pipeline import Pipeline\n",
    "from sklearn.linear_model import LogisticRegression\n",
    "from sklearn.preprocessing import StandardScaler\n",
    "from sklearn.compose import ColumnTransformer\n",
    "from sklearn.model_selection import train_test_split\n",
    "import pandas as pd\n",
    "import numpy as np"
   ]
  },
  {
   "cell_type": "code",
   "execution_count": 26,
   "id": "5bc116e8-7ff1-4f32-bea2-b402dfa023af",
   "metadata": {},
   "outputs": [],
   "source": [
    "# Dataset artificial\n",
    "df = pd.DataFrame({\n",
    "    'age': [20, 30, np.nan, 25],\n",
    "    'income': [40000, 50000, 60000, np.nan],\n",
    "    'target': [1, 0, 1, 0]\n",
    "})\n",
    "\n",
    "X = df[['age', 'income']]\n",
    "y = df['target']\n",
    "X_train, X_test, y_train, y_test = train_test_split(X, y, random_state=42)"
   ]
  },
  {
   "cell_type": "code",
   "execution_count": 27,
   "id": "832dffd4-4ae2-4004-b1bd-5f502442b1cb",
   "metadata": {},
   "outputs": [
    {
     "name": "stdout",
     "output_type": "stream",
     "text": [
      "1.0\n"
     ]
    }
   ],
   "source": [
    "# Pipeline completo\n",
    "pipeline = Pipeline([\n",
    "    ('imputer', SimpleImputer(strategy='mean')),\n",
    "    ('scaler', StandardScaler()),\n",
    "    ('model', LogisticRegression())\n",
    "])\n",
    "\n",
    "pipeline.fit(X_train, y_train)\n",
    "print(pipeline.score(X_test, y_test))\n"
   ]
  },
  {
   "cell_type": "markdown",
   "id": "fb5e2c68-dca7-4483-affe-5e9b5fcd67b4",
   "metadata": {},
   "source": [
    "#### ColumnTransformer para datos mixtos"
   ]
  },
  {
   "cell_type": "code",
   "execution_count": 26,
   "id": "9157fe40-4496-42f4-b563-d4eb0a6e14c3",
   "metadata": {},
   "outputs": [],
   "source": [
    "from sklearn.compose import ColumnTransformer\n",
    "from sklearn.preprocessing import OneHotEncoder\n",
    "from sklearn.preprocessing import StandardScaler\n",
    "from sklearn.pipeline import Pipeline\n",
    "from sklearn.linear_model import LogisticRegression\n",
    "from sklearn.model_selection import train_test_split\n",
    "import pandas as pd\n",
    "import numpy as np"
   ]
  },
  {
   "cell_type": "code",
   "execution_count": 52,
   "id": "4ae108db-eb0b-44a8-87c2-432d552b8c58",
   "metadata": {},
   "outputs": [],
   "source": [
    "# Dataset artificial\n",
    "df = pd.DataFrame({\n",
    "    'age': [20, 30, 23, 25],\n",
    "    'income': [40000, 50000, 60000, 5000],\n",
    "    'target': [1, 0, 1, 0]\n",
    "})\n",
    "\n",
    "numeric_features = ['age', 'income']\n",
    "categorical_features = ['target']\n"
   ]
  },
  {
   "cell_type": "code",
   "execution_count": 65,
   "id": "cf068b55-b908-4670-ac49-663ec6c57921",
   "metadata": {},
   "outputs": [],
   "source": [
    "X = df[numeric_features]\n",
    "y = df[categorical_features]\n",
    "X_train, X_test, y_train, y_test = train_test_split(X, y, test_size=0.2, random_state=42)"
   ]
  },
  {
   "cell_type": "code",
   "execution_count": 66,
   "id": "05baad7c-b454-4efb-aabe-8eb26a82895d",
   "metadata": {},
   "outputs": [],
   "source": [
    "# Define procesamiento por tipo de dato\n",
    "preprocessor = ColumnTransformer([\n",
    "    ('num', StandardScaler(), numeric_features),\n",
    "    ('cat', OneHotEncoder(), categorical_features)\n",
    "])"
   ]
  },
  {
   "cell_type": "code",
   "execution_count": 69,
   "id": "d1cb671b-ff9e-4fc0-bba4-5bfa0ad8ceaf",
   "metadata": {},
   "outputs": [],
   "source": [
    "# Combínalo en un pipeline\n",
    "pipeline = Pipeline([\n",
    "    ('preprocessor', preprocessor),\n",
    "    ('model', LogisticRegression())\n",
    "])\n",
    "\n"
   ]
  },
  {
   "cell_type": "code",
   "execution_count": null,
   "id": "1d5fb018-59c1-4b48-a347-838d950a454f",
   "metadata": {},
   "outputs": [],
   "source": []
  }
 ],
 "metadata": {
  "kernelspec": {
   "display_name": "Python 3 (ipykernel)",
   "language": "python",
   "name": "python3"
  },
  "language_info": {
   "codemirror_mode": {
    "name": "ipython",
    "version": 3
   },
   "file_extension": ".py",
   "mimetype": "text/x-python",
   "name": "python",
   "nbconvert_exporter": "python",
   "pygments_lexer": "ipython3",
   "version": "3.12.2"
  }
 },
 "nbformat": 4,
 "nbformat_minor": 5
}
